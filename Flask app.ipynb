{
 "cells": [
  {
   "cell_type": "code",
   "execution_count": 1,
   "metadata": {},
   "outputs": [],
   "source": [
    "import numpy as np\n",
    "import random\n",
    "import joblib\n",
    "from flask import Flask, jsonify, request, render_template"
   ]
  },
  {
   "cell_type": "code",
   "execution_count": 2,
   "metadata": {},
   "outputs": [],
   "source": [
    "app = Flask(__name__)\n",
    "model = joblib.load(\"engine_model.sav\")\n",
    "\n",
    "app = Flask(__name__)"
   ]
  },
  {
   "cell_type": "code",
   "execution_count": 3,
   "metadata": {},
   "outputs": [],
   "source": [
    "#for manual prediction\n",
    "@app.route('/m_predict')\n",
    "def predict():\n",
    "    return render_template('Manual_predict.html')\n",
    "\n",
    "#for manual prediction\n",
    "@app.route('/y_predict',methods=['POST'])\n",
    "def y_predict():\n",
    "    x_test = [[int(x) for x in request.form.values()]]\n",
    "   \n",
    "    \n",
    "    print(x_test)\n",
    "    a = model.predict(x_test)\n",
    "    pred = a[0]\n",
    "    if(pred == 0):\n",
    "        pred = \"No failure expected within 30 days.\"\n",
    "    else:\n",
    "        pred = \"Maintenance Required!! Expected a failure within 30 days.\"\n",
    "    \n",
    "    return render_template('Manual_predict.html', prediction_text=pred)"
   ]
  },
  {
   "cell_type": "code",
   "execution_count": 4,
   "metadata": {},
   "outputs": [],
   "source": [
    "#for automatic prediction\n",
    "@app.route('/s_predict')\n",
    "def spredict():\n",
    "    return render_template('Sensor_predict.html')\n",
    "\n",
    "#for taking sensor data randomly ad giving the predictions\n",
    "@app.route('/sy_predict',methods=['POST'])\n",
    "def sy_predict():\n",
    "    inp1=[]\n",
    "    inp1.append(random.randint(0,100)) #id\n",
    "    inp1.append(random.randint(0,365)) #cycle\n",
    "    for i in range(0,24):\n",
    "        inp1.append(random.uniform(0,1))\n",
    "    inp1.append(random.randint(0,365)) #ttf\n",
    "    pred=model.predict([inp1])\n",
    "    if(pred == 0):\n",
    "        pred = \"No failure expected within 30 days.\"\n",
    "    else:\n",
    "        pred = \"Maintenance Required!! Expected a failure within 30 days.\"\n",
    "    return render_template('Sensor_predict.html', prediction_text=pred,data=inp1)"
   ]
  },
  {
   "cell_type": "code",
   "execution_count": 5,
   "metadata": {},
   "outputs": [
    {
     "name": "stdout",
     "output_type": "stream",
     "text": [
      " * Serving Flask app \"__main__\" (lazy loading)\n",
      " * Environment: production\n",
      "   WARNING: This is a development server. Do not use it in a production deployment.\n",
      "   Use a production WSGI server instead.\n",
      " * Debug mode: on\n"
     ]
    },
    {
     "name": "stderr",
     "output_type": "stream",
     "text": [
      " * Restarting with stat\n"
     ]
    },
    {
     "ename": "SystemExit",
     "evalue": "1",
     "output_type": "error",
     "traceback": [
      "An exception has occurred, use %tb to see the full traceback.\n",
      "\u001b[1;31mSystemExit\u001b[0m\u001b[1;31m:\u001b[0m 1\n"
     ]
    },
    {
     "name": "stderr",
     "output_type": "stream",
     "text": [
      "C:\\Users\\CHARITHA\\Anaconda3\\lib\\site-packages\\IPython\\core\\interactiveshell.py:3334: UserWarning: To exit: use 'exit', 'quit', or Ctrl-D.\n",
      "  warn(\"To exit: use 'exit', 'quit', or Ctrl-D.\", stacklevel=1)\n"
     ]
    }
   ],
   "source": [
    "if __name__ == '__main__':\n",
    "    app.run(host='0.0.0.0', debug=True)"
   ]
  },
  {
   "cell_type": "code",
   "execution_count": null,
   "metadata": {},
   "outputs": [],
   "source": []
  }
 ],
 "metadata": {
  "kernelspec": {
   "display_name": "Python 3",
   "language": "python",
   "name": "python3"
  },
  "language_info": {
   "codemirror_mode": {
    "name": "ipython",
    "version": 3
   },
   "file_extension": ".py",
   "mimetype": "text/x-python",
   "name": "python",
   "nbconvert_exporter": "python",
   "pygments_lexer": "ipython3",
   "version": "3.7.4"
  },
  "varInspector": {
   "cols": {
    "lenName": 16,
    "lenType": 16,
    "lenVar": 40
   },
   "kernels_config": {
    "python": {
     "delete_cmd_postfix": "",
     "delete_cmd_prefix": "del ",
     "library": "var_list.py",
     "varRefreshCmd": "print(var_dic_list())"
    },
    "r": {
     "delete_cmd_postfix": ") ",
     "delete_cmd_prefix": "rm(",
     "library": "var_list.r",
     "varRefreshCmd": "cat(var_dic_list()) "
    }
   },
   "types_to_exclude": [
    "module",
    "function",
    "builtin_function_or_method",
    "instance",
    "_Feature"
   ],
   "window_display": false
  }
 },
 "nbformat": 4,
 "nbformat_minor": 4
}
